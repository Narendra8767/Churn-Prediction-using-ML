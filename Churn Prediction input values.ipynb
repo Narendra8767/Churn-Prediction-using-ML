{
 "cells": [
  {
   "cell_type": "code",
   "execution_count": 13,
   "id": "6a9edfa8-6b15-49f2-9f0f-f73b835d35c4",
   "metadata": {},
   "outputs": [
    {
     "data": {
      "text/plain": [
       "array([1])"
      ]
     },
     "execution_count": 13,
     "metadata": {},
     "output_type": "execute_result"
    }
   ],
   "source": [
    "import pickle\n",
    "import numpy as np\n",
    "pipe = pickle.load(open('ChurnPrediction.pkl','rb'))\n",
    "test_input2 = np.array([0,1,1,0,43,1,1,1,0,1,0,1,1,1,0,1,2,56,556],dtype=object).reshape(1,-1)\n",
    "pipe.predict(test_input2)"
   ]
  }
 ],
 "metadata": {
  "kernelspec": {
   "display_name": "Python 3 (ipykernel)",
   "language": "python",
   "name": "python3"
  },
  "language_info": {
   "codemirror_mode": {
    "name": "ipython",
    "version": 3
   },
   "file_extension": ".py",
   "mimetype": "text/x-python",
   "name": "python",
   "nbconvert_exporter": "python",
   "pygments_lexer": "ipython3",
   "version": "3.12.7"
  }
 },
 "nbformat": 4,
 "nbformat_minor": 5
}
